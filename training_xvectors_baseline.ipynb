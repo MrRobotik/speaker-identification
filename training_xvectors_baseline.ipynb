{
 "cells": [
  {
   "cell_type": "markdown",
   "id": "mounted-patrick",
   "metadata": {},
   "source": [
    "# Training baseline architecture (x-vectors 2018)"
   ]
  },
  {
   "cell_type": "markdown",
   "id": "organizational-greek",
   "metadata": {},
   "source": [
    "**Imports:**"
   ]
  },
  {
   "cell_type": "code",
   "execution_count": 1,
   "id": "unlikely-housing",
   "metadata": {},
   "outputs": [],
   "source": [
    "import torch\n",
    "import matplotlib.pyplot as plt \n",
    "from os import listdir\n",
    "from pathlib import Path\n",
    "from sklearn.manifold import TSNE\n",
    "from src.nn_models.xvectors_baseline import *"
   ]
  },
  {
   "cell_type": "markdown",
   "id": "subsequent-trauma",
   "metadata": {},
   "source": [
    "**Configuration:**"
   ]
  },
  {
   "cell_type": "code",
   "execution_count": 2,
   "id": "traditional-fighter",
   "metadata": {},
   "outputs": [],
   "source": [
    "# training configuration\n",
    "training_data = Path(\"data/vox1_dev/\")\n",
    "testing_data = Path(\"data/vox1_test/\")\n",
    "model_params = Path(\"model_params.pt\")\n",
    "device = 'cuda' if torch.cuda.is_available() else 'cpu'\n",
    "val_proportion = 0.15\n",
    "chunk_size = 24\n",
    "epochs = 30\n",
    "batch_size = 2048\n",
    "mb_in_run = 10\n",
    "\n",
    "# model declaration:\n",
    "speakers_count = len(listdir(training_data))\n",
    "model = XVectorsBaseline(speakers_count, chunk_size).to(device)\n",
    "\n",
    "if model_params.is_file():\n",
    "    model.load_state_dict(torch.load(model_params))\n",
    "    print(\"Model parameters were loaded!\")\n",
    "\n",
    "# loss and optimizer selection:\n",
    "criterion = nn.CrossEntropyLoss()\n",
    "optimizer = optim.Adam(model.parameters())\n",
    "\n",
    "# create training and validation dataset and dataloader:\n",
    "dataset = create_training_mfcc_dataset(training_data, chunk_size)\n",
    "val_count = int(val_proportion * len(dataset))\n",
    "train_count = len(dataset) - val_count\n",
    "train_dataset, val_dataset = random_split(dataset, [train_count, val_count])\n",
    "train_dataloader = DataLoader(dataset=train_dataset, batch_size=batch_size, shuffle=True)\n",
    "val_dataloader = DataLoader(dataset=val_dataset, batch_size=batch_size, shuffle=True)"
   ]
  },
  {
   "cell_type": "markdown",
   "id": "willing-kenya",
   "metadata": {},
   "source": [
    "**Training model:**"
   ]
  },
  {
   "cell_type": "code",
   "execution_count": 3,
   "id": "verified-destruction",
   "metadata": {},
   "outputs": [
    {
     "name": "stdout",
     "output_type": "stream",
     "text": [
      "Initial accuracy on validation set: 11.838%\n",
      "\n",
      "START OF EPOCH: 1/30\n",
      "epoch: 1/30, run: 1/2, processed m.b.: 10, avg.m.b. loss:  3.299, accuracy: 19.244%, duration: 27.46s\n",
      "Accuracy on validation set has been increased by 7.406%. Model parameters were resaved!\n",
      "epoch: 1/30, run: 2/2, processed m.b.: 10, avg.m.b. loss:  2.732, accuracy: 19.244%, duration: 27.273s\n",
      "END OF EPOCH: 1/30, DURATION: 59.789s, AVG.M.B. LOSS: 3.016\n",
      "\n",
      "START OF EPOCH: 2/30\n",
      "epoch: 2/30, run: 1/2, processed m.b.: 10, avg.m.b. loss:  2.739, accuracy: 19.244%, duration: 26.972s\n",
      "epoch: 2/30, run: 2/2, processed m.b.: 10, avg.m.b. loss:  2.719, accuracy: 19.244%, duration: 26.915s\n",
      "END OF EPOCH: 2/30, DURATION: 58.777s, AVG.M.B. LOSS: 2.729\n",
      "\n",
      "START OF EPOCH: 3/30\n",
      "epoch: 3/30, run: 1/2, processed m.b.: 10, avg.m.b. loss:  2.717, accuracy: 19.244%, duration: 27.139s\n",
      "epoch: 3/30, run: 2/2, processed m.b.: 10, avg.m.b. loss:  2.691, accuracy: 19.244%, duration: 27.022s\n",
      "END OF EPOCH: 3/30, DURATION: 59.055s, AVG.M.B. LOSS: 2.704\n",
      "\n",
      "START OF EPOCH: 4/30\n",
      "epoch: 4/30, run: 1/2, processed m.b.: 10, avg.m.b. loss:  2.656, accuracy: 19.244%, duration: 27.206s\n",
      "epoch: 4/30, run: 2/2, processed m.b.: 10, avg.m.b. loss:  2.618, accuracy: 20.644%, duration: 27.464s\n",
      "Accuracy on validation set has been increased by 1.4%. Model parameters were resaved!\n",
      "END OF EPOCH: 4/30, DURATION: 59.686s, AVG.M.B. LOSS: 2.637\n",
      "\n",
      "START OF EPOCH: 5/30\n",
      "epoch: 5/30, run: 1/2, processed m.b.: 10, avg.m.b. loss:  2.622, accuracy: 23.834%, duration: 26.849s\n",
      "Accuracy on validation set has been increased by 3.19%. Model parameters were resaved!\n",
      "epoch: 5/30, run: 2/2, processed m.b.: 10, avg.m.b. loss:  2.544, accuracy: 25.177%, duration: 26.683s\n",
      "Accuracy on validation set has been increased by 1.343%. Model parameters were resaved!\n",
      "END OF EPOCH: 5/30, DURATION: 58.781s, AVG.M.B. LOSS: 2.583\n",
      "\n",
      "START OF EPOCH: 6/30\n",
      "epoch: 6/30, run: 1/2, processed m.b.: 10, avg.m.b. loss:  2.528, accuracy: 25.581%, duration: 26.849s\n",
      "Accuracy on validation set has been increased by 0.404%. Model parameters were resaved!\n",
      "epoch: 6/30, run: 2/2, processed m.b.: 10, avg.m.b. loss:  2.422, accuracy: 25.567%, duration: 26.662s\n",
      "END OF EPOCH: 6/30, DURATION: 58.55s, AVG.M.B. LOSS: 2.475\n",
      "\n",
      "START OF EPOCH: 7/30\n",
      "epoch: 7/30, run: 1/2, processed m.b.: 10, avg.m.b. loss:  2.329, accuracy: 28.281%, duration: 26.85s\n",
      "Accuracy on validation set has been increased by 2.7%. Model parameters were resaved!\n",
      "epoch: 7/30, run: 2/2, processed m.b.: 10, avg.m.b. loss:  2.268, accuracy: 30.475%, duration: 26.687s\n",
      "Accuracy on validation set has been increased by 2.194%. Model parameters were resaved!\n",
      "END OF EPOCH: 7/30, DURATION: 58.78s, AVG.M.B. LOSS: 2.298\n",
      "\n",
      "START OF EPOCH: 8/30\n",
      "epoch: 8/30, run: 1/2, processed m.b.: 10, avg.m.b. loss:  2.199, accuracy: 31.067%, duration: 26.852s\n",
      "Accuracy on validation set has been increased by 0.592%. Model parameters were resaved!\n",
      "epoch: 8/30, run: 2/2, processed m.b.: 10, avg.m.b. loss:  2.145, accuracy: 31.904%, duration: 26.668s\n",
      "Accuracy on validation set has been increased by 0.837%. Model parameters were resaved!\n",
      "END OF EPOCH: 8/30, DURATION: 58.761s, AVG.M.B. LOSS: 2.172\n",
      "\n",
      "START OF EPOCH: 9/30\n",
      "epoch: 9/30, run: 1/2, processed m.b.: 10, avg.m.b. loss:  2.147, accuracy: 31.11%, duration: 26.857s\n",
      "epoch: 9/30, run: 2/2, processed m.b.: 10, avg.m.b. loss:  2.139, accuracy: 32.135%, duration: 26.673s\n",
      "Accuracy on validation set has been increased by 0.231%. Model parameters were resaved!\n",
      "END OF EPOCH: 9/30, DURATION: 58.602s, AVG.M.B. LOSS: 2.143\n",
      "\n",
      "START OF EPOCH: 10/30\n",
      "epoch: 10/30, run: 1/2, processed m.b.: 10, avg.m.b. loss:  2.042, accuracy: 33.218%, duration: 26.962s\n",
      "Accuracy on validation set has been increased by 1.083%. Model parameters were resaved!\n",
      "epoch: 10/30, run: 2/2, processed m.b.: 10, avg.m.b. loss:  2.029, accuracy: 33.348%, duration: 27.109s\n",
      "Accuracy on validation set has been increased by 0.13%. Model parameters were resaved!\n",
      "END OF EPOCH: 10/30, DURATION: 59.357s, AVG.M.B. LOSS: 2.036\n",
      "\n",
      "START OF EPOCH: 11/30\n",
      "epoch: 11/30, run: 1/2, processed m.b.: 10, avg.m.b. loss:  1.983, accuracy: 33.694%, duration: 27.34s\n",
      "Accuracy on validation set has been increased by 0.346%. Model parameters were resaved!\n",
      "epoch: 11/30, run: 2/2, processed m.b.: 10, avg.m.b. loss:  1.967, accuracy: 34.373%, duration: 26.686s\n",
      "Accuracy on validation set has been increased by 0.679%. Model parameters were resaved!\n",
      "END OF EPOCH: 11/30, DURATION: 59.256s, AVG.M.B. LOSS: 1.975\n",
      "\n",
      "START OF EPOCH: 12/30\n",
      "epoch: 12/30, run: 1/2, processed m.b.: 10, avg.m.b. loss:  2.025, accuracy: 26.057%, duration: 26.864s\n",
      "epoch: 12/30, run: 2/2, processed m.b.: 10, avg.m.b. loss:  2.109, accuracy: 33.362%, duration: 28.555s\n",
      "END OF EPOCH: 12/30, DURATION: 60.293s, AVG.M.B. LOSS: 2.067\n",
      "\n",
      "START OF EPOCH: 13/30\n",
      "epoch: 13/30, run: 1/2, processed m.b.: 10, avg.m.b. loss:  1.949, accuracy: 34.734%, duration: 26.976s\n",
      "Accuracy on validation set has been increased by 0.361%. Model parameters were resaved!\n",
      "epoch: 13/30, run: 2/2, processed m.b.: 10, avg.m.b. loss:  1.883, accuracy: 35.73%, duration: 26.672s\n",
      "Accuracy on validation set has been increased by 0.996%. Model parameters were resaved!\n",
      "END OF EPOCH: 13/30, DURATION: 58.903s, AVG.M.B. LOSS: 1.916\n",
      "\n",
      "START OF EPOCH: 14/30\n",
      "epoch: 14/30, run: 1/2, processed m.b.: 10, avg.m.b. loss:  1.842, accuracy: 35.889%, duration: 26.945s\n",
      "Accuracy on validation set has been increased by 0.159%. Model parameters were resaved!\n",
      "epoch: 14/30, run: 2/2, processed m.b.: 10, avg.m.b. loss:  1.82, accuracy: 32.655%, duration: 26.664s\n",
      "END OF EPOCH: 14/30, DURATION: 58.634s, AVG.M.B. LOSS: 1.831\n",
      "\n",
      "START OF EPOCH: 15/30\n",
      "epoch: 15/30, run: 1/2, processed m.b.: 10, avg.m.b. loss:  1.825, accuracy: 35.369%, duration: 26.86s\n",
      "epoch: 15/30, run: 2/2, processed m.b.: 10, avg.m.b. loss:  1.776, accuracy: 36.394%, duration: 27.49s\n",
      "Accuracy on validation set has been increased by 0.505%. Model parameters were resaved!\n",
      "END OF EPOCH: 15/30, DURATION: 59.404s, AVG.M.B. LOSS: 1.8\n",
      "\n",
      "START OF EPOCH: 16/30\n",
      "epoch: 16/30, run: 1/2, processed m.b.: 10, avg.m.b. loss:  1.726, accuracy: 36.697%, duration: 26.912s\n",
      "Accuracy on validation set has been increased by 0.303%. Model parameters were resaved!\n",
      "epoch: 16/30, run: 2/2, processed m.b.: 10, avg.m.b. loss:  1.731, accuracy: 34.503%, duration: 27.619s\n",
      "END OF EPOCH: 16/30, DURATION: 59.755s, AVG.M.B. LOSS: 1.729\n",
      "\n",
      "START OF EPOCH: 17/30\n",
      "epoch: 17/30, run: 1/2, processed m.b.: 10, avg.m.b. loss:  1.707, accuracy: 35.528%, duration: 26.855s\n",
      "epoch: 17/30, run: 2/2, processed m.b.: 10, avg.m.b. loss:  1.671, accuracy: 36.841%, duration: 26.663s\n",
      "Accuracy on validation set has been increased by 0.144%. Model parameters were resaved!\n",
      "END OF EPOCH: 17/30, DURATION: 58.567s, AVG.M.B. LOSS: 1.689\n",
      "\n",
      "START OF EPOCH: 18/30\n",
      "epoch: 18/30, run: 1/2, processed m.b.: 10, avg.m.b. loss:  1.608, accuracy: 35.73%, duration: 27.099s\n",
      "epoch: 18/30, run: 2/2, processed m.b.: 10, avg.m.b. loss:  1.617, accuracy: 35.398%, duration: 26.673s\n",
      "END OF EPOCH: 18/30, DURATION: 58.63s, AVG.M.B. LOSS: 1.613\n",
      "\n",
      "START OF EPOCH: 19/30\n",
      "epoch: 19/30, run: 1/2, processed m.b.: 10, avg.m.b. loss:  2.127, accuracy: 32.9%, duration: 26.859s\n",
      "epoch: 19/30, run: 2/2, processed m.b.: 10, avg.m.b. loss:  1.852, accuracy: 36.668%, duration: 26.77s\n",
      "END OF EPOCH: 19/30, DURATION: 58.507s, AVG.M.B. LOSS: 1.99\n",
      "\n",
      "START OF EPOCH: 20/30\n",
      "epoch: 20/30, run: 1/2, processed m.b.: 10, avg.m.b. loss:  1.688, accuracy: 37.967%, duration: 26.908s\n",
      "Accuracy on validation set has been increased by 1.126%. Model parameters were resaved!\n",
      "epoch: 20/30, run: 2/2, processed m.b.: 10, avg.m.b. loss:  1.616, accuracy: 37.419%, duration: 26.666s\n",
      "END OF EPOCH: 20/30, DURATION: 58.587s, AVG.M.B. LOSS: 1.652\n",
      "\n",
      "START OF EPOCH: 21/30\n",
      "epoch: 21/30, run: 1/2, processed m.b.: 10, avg.m.b. loss:  1.527, accuracy: 37.751%, duration: 26.86s\n",
      "epoch: 21/30, run: 2/2, processed m.b.: 10, avg.m.b. loss:  1.587, accuracy: 37.982%, duration: 26.681s\n",
      "Accuracy on validation set has been increased by 0.015%. Model parameters were resaved!\n",
      "END OF EPOCH: 21/30, DURATION: 58.587s, AVG.M.B. LOSS: 1.557\n",
      "\n",
      "START OF EPOCH: 22/30\n",
      "epoch: 22/30, run: 1/2, processed m.b.: 10, avg.m.b. loss:  1.514, accuracy: 38.588%, duration: 26.879s\n",
      "Accuracy on validation set has been increased by 0.606%. Model parameters were resaved!\n"
     ]
    },
    {
     "name": "stdout",
     "output_type": "stream",
     "text": [
      "epoch: 22/30, run: 2/2, processed m.b.: 10, avg.m.b. loss:  1.484, accuracy: 36.524%, duration: 26.698s\n",
      "END OF EPOCH: 22/30, DURATION: 58.575s, AVG.M.B. LOSS: 1.499\n",
      "\n",
      "START OF EPOCH: 23/30\n",
      "epoch: 23/30, run: 1/2, processed m.b.: 10, avg.m.b. loss:  1.452, accuracy: 38.025%, duration: 27.051s\n",
      "epoch: 23/30, run: 2/2, processed m.b.: 10, avg.m.b. loss:  1.45, accuracy: 38.4%, duration: 26.673s\n",
      "END OF EPOCH: 23/30, DURATION: 58.635s, AVG.M.B. LOSS: 1.451\n",
      "\n",
      "START OF EPOCH: 24/30\n",
      "epoch: 24/30, run: 1/2, processed m.b.: 10, avg.m.b. loss:  1.372, accuracy: 39.209%, duration: 26.881s\n",
      "Accuracy on validation set has been increased by 0.621%. Model parameters were resaved!\n",
      "epoch: 24/30, run: 2/2, processed m.b.: 10, avg.m.b. loss:  1.364, accuracy: 38.444%, duration: 26.668s\n",
      "END OF EPOCH: 24/30, DURATION: 58.559s, AVG.M.B. LOSS: 1.368\n",
      "\n",
      "START OF EPOCH: 25/30\n",
      "epoch: 25/30, run: 1/2, processed m.b.: 10, avg.m.b. loss:  1.333, accuracy: 38.271%, duration: 26.851s\n",
      "epoch: 25/30, run: 2/2, processed m.b.: 10, avg.m.b. loss:  1.37, accuracy: 39.382%, duration: 26.673s\n",
      "Accuracy on validation set has been increased by 0.173%. Model parameters were resaved!\n",
      "END OF EPOCH: 25/30, DURATION: 58.567s, AVG.M.B. LOSS: 1.351\n",
      "\n",
      "START OF EPOCH: 26/30\n",
      "epoch: 26/30, run: 1/2, processed m.b.: 10, avg.m.b. loss:  1.298, accuracy: 37.939%, duration: 26.879s\n",
      "epoch: 26/30, run: 2/2, processed m.b.: 10, avg.m.b. loss:  1.278, accuracy: 38.603%, duration: 26.666s\n",
      "END OF EPOCH: 26/30, DURATION: 58.452s, AVG.M.B. LOSS: 1.288\n",
      "\n",
      "START OF EPOCH: 27/30\n",
      "epoch: 27/30, run: 1/2, processed m.b.: 10, avg.m.b. loss:  1.19, accuracy: 38.198%, duration: 26.849s\n",
      "epoch: 27/30, run: 2/2, processed m.b.: 10, avg.m.b. loss:  1.248, accuracy: 38.834%, duration: 26.67s\n",
      "END OF EPOCH: 27/30, DURATION: 58.379s, AVG.M.B. LOSS: 1.219\n",
      "\n",
      "START OF EPOCH: 28/30\n",
      "epoch: 28/30, run: 1/2, processed m.b.: 10, avg.m.b. loss:  1.229, accuracy: 36.553%, duration: 26.881s\n",
      "epoch: 28/30, run: 2/2, processed m.b.: 10, avg.m.b. loss:  1.233, accuracy: 38.963%, duration: 26.67s\n",
      "END OF EPOCH: 28/30, DURATION: 58.412s, AVG.M.B. LOSS: 1.231\n",
      "\n",
      "START OF EPOCH: 29/30\n",
      "epoch: 29/30, run: 1/2, processed m.b.: 10, avg.m.b. loss:  1.077, accuracy: 38.761%, duration: 26.868s\n",
      "epoch: 29/30, run: 2/2, processed m.b.: 10, avg.m.b. loss:  1.067, accuracy: 37.361%, duration: 26.668s\n",
      "END OF EPOCH: 29/30, DURATION: 58.403s, AVG.M.B. LOSS: 1.072\n",
      "\n",
      "START OF EPOCH: 30/30\n",
      "epoch: 30/30, run: 1/2, processed m.b.: 10, avg.m.b. loss:  1.159, accuracy: 37.419%, duration: 26.881s\n",
      "epoch: 30/30, run: 2/2, processed m.b.: 10, avg.m.b. loss:  1.046, accuracy: 38.04%, duration: 26.669s\n",
      "END OF EPOCH: 30/30, DURATION: 58.413s, AVG.M.B. LOSS: 1.103\n",
      "\n"
     ]
    }
   ],
   "source": [
    "train_model(model, model_params, epochs, mb_in_run, train_dataloader, val_dataloader, optimizer, criterion, device)"
   ]
  },
  {
   "cell_type": "markdown",
   "id": "technical-hanging",
   "metadata": {},
   "source": [
    "**Visual evaluation of model on testing data:**"
   ]
  },
  {
   "cell_type": "code",
   "execution_count": 4,
   "id": "metric-melbourne",
   "metadata": {},
   "outputs": [
    {
     "data": {
      "text/plain": [
       "<matplotlib.collections.PathCollection at 0x7f729e527550>"
      ]
     },
     "execution_count": 4,
     "metadata": {},
     "output_type": "execute_result"
    },
    {
     "data": {
      "image/png": "[encoded data removed]",
      "text/plain": [
       "<Figure size 432x288 with 1 Axes>"
      ]
     },
     "metadata": {
      "needs_background": "light"
     },
     "output_type": "display_data"
    }
   ],
   "source": [
    "xvectors, labels = get_session_xvectors(model, testing_data, chunk_size, batch_size, device)\n",
    "xvectors_reduced = TSNE(n_components=2).fit_transform(np.array(xvectors))\n",
    "colors = [\"red\", \"blue\", \"green\", \"orange\", \"black\", \"purple\"]\n",
    "plt.scatter(xvectors_reduced[:,0], xvectors_reduced[:,1], c=[colors[l] for l in labels])"
   ]
  }
 ],
 "metadata": {
  "kernelspec": {
   "display_name": "Python 3",
   "language": "python",
   "name": "python3"
  },
  "language_info": {
   "codemirror_mode": {
    "name": "ipython",
    "version": 3
   },
   "file_extension": ".py",
   "mimetype": "text/x-python",
   "name": "python",
   "nbconvert_exporter": "python",
   "pygments_lexer": "ipython3",
   "version": "3.8.5"
  }
 },
 "nbformat": 4,
 "nbformat_minor": 5
}
