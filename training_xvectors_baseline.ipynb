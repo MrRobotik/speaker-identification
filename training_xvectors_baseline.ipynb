{
 "cells": [
  {
   "cell_type": "markdown",
   "id": "mounted-patrick",
   "metadata": {},
   "source": [
    "# Training baseline architecture (x-vectors 2018)"
   ]
  },
  {
   "cell_type": "markdown",
   "id": "organizational-greek",
   "metadata": {},
   "source": [
    "**Imports:**"
   ]
  },
  {
   "cell_type": "code",
   "execution_count": 1,
   "id": "unlikely-housing",
   "metadata": {},
   "outputs": [],
   "source": [
    "import torch\n",
    "from src.nn_models.xvectors_baseline import *\n",
    "import matplotlib.pyplot as plt \n",
    "from sklearn.manifold import TSNE\n",
    "from pathlib import Path\n",
    "from os import listdir"
   ]
  },
  {
   "cell_type": "markdown",
   "id": "subsequent-trauma",
   "metadata": {},
   "source": [
    "**Configuration:**"
   ]
  },
  {
   "cell_type": "code",
   "execution_count": 2,
   "id": "traditional-fighter",
   "metadata": {},
   "outputs": [],
   "source": [
    "# training configuration\n",
    "training_data = Path(\"/home/joey/School/KNN/speaker-identification/data/vox1_dev/\")\n",
    "testing_data = Path(\"/home/joey/School/KNN/speaker-identification/data/vox1_test/\")\n",
    "model_params = Path(\"/home/joey/School/KNN/speaker-identification/model_params.pt\")\n",
    "device = 'cuda' if torch.cuda.is_available() else 'cpu'\n",
    "epochs = 30\n",
    "batch_size = 2048\n",
    "chunk_size = 24\n",
    "\n",
    "# model declaration:\n",
    "speakers_count = len(listdir(training_data))\n",
    "model = XVectorsBaseline(speakers_count, chunk_size).to(device)\n",
    "\n",
    "if model_params.is_file():\n",
    "    model.load_state_dict(torch.load(model_params))\n",
    "    print(\"Model parameters were loaded!\")\n",
    "\n",
    "# loss and optimizer selection:\n",
    "criterion = nn.CrossEntropyLoss()\n",
    "optimizer = optim.Adam(model.parameters())\n",
    "\n",
    "# create training dataset and dataloader:\n",
    "train_dataset = create_training_mfcc_dataset(training_data, chunk_size)\n",
    "train_dataloader = DataLoader(dataset=train_dataset, batch_size=batch_size, shuffle=True)"
   ]
  },
  {
   "cell_type": "markdown",
   "id": "willing-kenya",
   "metadata": {},
   "source": [
    "**Training model:**"
   ]
  },
  {
   "cell_type": "code",
   "execution_count": 3,
   "id": "verified-destruction",
   "metadata": {},
   "outputs": [
    {
     "name": "stdout",
     "output_type": "stream",
     "text": [
      "Epoch 0: loss: 69.70994067192078, accuracy: 19.374, duration: 66.042s\n",
      "Model params were resaved!\n",
      "\n",
      "Epoch 1: loss: 62.66858625411987, accuracy: 19.374, duration: 65.72s\n",
      "Model params were resaved!\n",
      "\n",
      "Epoch 2: loss: 61.7111611366272, accuracy: 19.374, duration: 66.147s\n",
      "Model params were resaved!\n",
      "\n",
      "Epoch 3: loss: 59.607242584228516, accuracy: 23.503, duration: 65.173s\n",
      "Model params were resaved!\n",
      "\n",
      "Epoch 4: loss: 55.37318229675293, accuracy: 29.949, duration: 65.182s\n",
      "Model params were resaved!\n",
      "\n",
      "Epoch 5: loss: 51.87176871299744, accuracy: 30.363, duration: 65.172s\n",
      "Model params were resaved!\n",
      "\n",
      "Epoch 6: loss: 50.955509662628174, accuracy: 33.61, duration: 65.195s\n",
      "Model params were resaved!\n",
      "\n",
      "Epoch 7: loss: 47.9631450176239, accuracy: 35.421, duration: 65.169s\n",
      "Model params were resaved!\n",
      "\n",
      "Epoch 8: loss: 46.183592081069946, accuracy: 38.569, duration: 65.188s\n",
      "Model params were resaved!\n",
      "\n",
      "Epoch 9: loss: 45.262328147888184, accuracy: 39.894, duration: 65.203s\n",
      "Model params were resaved!\n",
      "\n",
      "Epoch 10: loss: 42.958580017089844, accuracy: 42.014, duration: 65.393s\n",
      "Model params were resaved!\n",
      "\n",
      "Epoch 11: loss: 43.254053592681885, accuracy: 43.334, duration: 65.17s\n",
      "Model params were resaved!\n",
      "\n",
      "Epoch 12: loss: 40.48428225517273, accuracy: 47.037, duration: 65.163s\n",
      "Model params were resaved!\n",
      "\n",
      "Epoch 13: loss: 39.57245755195618, accuracy: 46.463, duration: 65.182s\n",
      "Model params were resaved!\n",
      "\n",
      "Epoch 14: loss: 37.7214390039444, accuracy: 48.037, duration: 65.189s\n",
      "Model params were resaved!\n",
      "\n",
      "Epoch 15: loss: 38.38573098182678, accuracy: 49.808, duration: 65.179s\n",
      "Model params were resaved!\n",
      "\n",
      "Epoch 16: loss: 36.07512629032135, accuracy: 52.065, duration: 65.179s\n",
      "Model params were resaved!\n",
      "\n",
      "Epoch 17: loss: 34.95927286148071, accuracy: 52.266, duration: 65.159s\n",
      "Model params were resaved!\n",
      "\n",
      "Epoch 18: loss: 34.1266952753067, accuracy: 54.786, duration: 65.186s\n",
      "Model params were resaved!\n",
      "\n",
      "Epoch 19: loss: 32.602532625198364, accuracy: 56.419, duration: 65.192s\n",
      "Model params were resaved!\n",
      "\n",
      "Epoch 20: loss: 30.40218150615692, accuracy: 59.127, duration: 65.18s\n",
      "Model params were resaved!\n",
      "\n",
      "Epoch 21: loss: 31.18574059009552, accuracy: 58.404, duration: 65.189s\n",
      "Model params were resaved!\n",
      "\n",
      "Epoch 22: loss: 28.468599438667297, accuracy: 62.897, duration: 65.195s\n",
      "Model params were resaved!\n",
      "\n",
      "Epoch 23: loss: 27.998331665992737, accuracy: 57.493, duration: 65.186s\n",
      "Model params were resaved!\n",
      "\n",
      "Epoch 24: loss: 27.390777349472046, accuracy: 63.514, duration: 65.182s\n",
      "Model params were resaved!\n",
      "\n",
      "Epoch 25: loss: 26.174583435058594, accuracy: 66.697, duration: 65.179s\n",
      "Model params were resaved!\n",
      "\n",
      "Epoch 26: loss: 22.917177498340607, accuracy: 68.691, duration: 65.182s\n",
      "Model params were resaved!\n",
      "\n",
      "Epoch 27: loss: 21.576512575149536, accuracy: 66.879, duration: 65.187s\n",
      "Model params were resaved!\n",
      "\n",
      "Epoch 28: loss: 21.812103748321533, accuracy: 74.325, duration: 66.219s\n",
      "Model params were resaved!\n",
      "\n",
      "Epoch 29: loss: 18.781773149967194, accuracy: 75.28, duration: 66.988s\n",
      "Model params were resaved!\n",
      "\n"
     ]
    }
   ],
   "source": [
    "train_model(model, model_params, epochs, train_dataloader, optimizer, criterion, device)"
   ]
  },
  {
   "cell_type": "markdown",
   "id": "technical-hanging",
   "metadata": {},
   "source": [
    "**Visual evaluation of model on testing data:**"
   ]
  },
  {
   "cell_type": "code",
   "execution_count": 6,
   "id": "metric-melbourne",
   "metadata": {},
   "outputs": [
    {
     "data": {
      "text/plain": [
       "<matplotlib.collections.PathCollection at 0x7f0e3337f0d0>"
      ]
     },
     "execution_count": 6,
     "metadata": {},
     "output_type": "execute_result"
    },
    {
     "data": {
      "image/png": "[encoded data removed]",
      "text/plain": [
       "<Figure size 432x288 with 1 Axes>"
      ]
     },
     "metadata": {
      "needs_background": "light"
     },
     "output_type": "display_data"
    }
   ],
   "source": [
    "xvectors, labels = get_session_xvectors(model, testing_data, chunk_size, batch_size, device)\n",
    "xvectors_reduced = TSNE(n_components=2).fit_transform(np.array(xvectors))\n",
    "colors = [\"red\", \"blue\", \"green\", \"orange\", \"black\", \"purple\"]\n",
    "plt.scatter(xvectors_reduced[:,0], xvectors_reduced[:,1], c=[colors[l] for l in labels])"
   ]
  }
 ],
 "metadata": {
  "kernelspec": {
   "display_name": "Python 3",
   "language": "python",
   "name": "python3"
  },
  "language_info": {
   "codemirror_mode": {
    "name": "ipython",
    "version": 3
   },
   "file_extension": ".py",
   "mimetype": "text/x-python",
   "name": "python",
   "nbconvert_exporter": "python",
   "pygments_lexer": "ipython3",
   "version": "3.8.5"
  }
 },
 "nbformat": 4,
 "nbformat_minor": 5
}
